{
 "cells": [
  {
   "cell_type": "code",
   "execution_count": 3,
   "id": "a40c8eb1",
   "metadata": {},
   "outputs": [
    {
     "name": "stdout",
     "output_type": "stream",
     "text": [
      "Dataset Info:\n",
      "<class 'pandas.core.frame.DataFrame'>\n",
      "RangeIndex: 545 entries, 0 to 544\n",
      "Data columns (total 13 columns):\n",
      " #   Column            Non-Null Count  Dtype \n",
      "---  ------            --------------  ----- \n",
      " 0   house_value       545 non-null    int64 \n",
      " 1   area              545 non-null    int64 \n",
      " 2   bedrooms          545 non-null    int64 \n",
      " 3   bathrooms         545 non-null    int64 \n",
      " 4   stories           545 non-null    int64 \n",
      " 5   mainroad          545 non-null    object\n",
      " 6   guestroom         545 non-null    object\n",
      " 7   basement          545 non-null    object\n",
      " 8   hotwaterheating   545 non-null    object\n",
      " 9   airconditioning   545 non-null    object\n",
      " 10  parking           545 non-null    int64 \n",
      " 11  prefarea          545 non-null    object\n",
      " 12  furnishingstatus  545 non-null    object\n",
      "dtypes: int64(6), object(7)\n",
      "memory usage: 55.5+ KB\n",
      "None\n",
      "\n",
      "Categorical Columns and their Unique Values:\n",
      "mainroad: 2 unique values\n",
      "guestroom: 2 unique values\n",
      "basement: 2 unique values\n",
      "hotwaterheating: 2 unique values\n",
      "airconditioning: 2 unique values\n",
      "prefarea: 2 unique values\n",
      "furnishingstatus: 3 unique values\n",
      "\n",
      "Transformed Dataset:\n",
      "   house_value  area  bedrooms  bathrooms  stories  parking  mainroad_yes  \\\n",
      "0     13300000  7420         4          2        3        2          True   \n",
      "1     12250000  8960         4          4        4        3          True   \n",
      "2     12250000  9960         3          2        2        2          True   \n",
      "3     12215000  7500         4          2        2        3          True   \n",
      "4     11410000  7420         4          1        2        2          True   \n",
      "\n",
      "   guestroom_yes  basement_yes  hotwaterheating_yes  airconditioning_yes  \\\n",
      "0          False         False                False                 True   \n",
      "1          False         False                False                 True   \n",
      "2          False          True                False                False   \n",
      "3          False          True                False                 True   \n",
      "4           True          True                False                 True   \n",
      "\n",
      "   prefarea_yes  furnishingstatus_semi-furnished  furnishingstatus_unfurnished  \n",
      "0          True                            False                         False  \n",
      "1         False                            False                         False  \n",
      "2          True                             True                         False  \n",
      "3          True                            False                         False  \n",
      "4         False                            False                         False  \n"
     ]
    }
   ],
   "source": [
    "import pandas as pd\n",
    "\n",
    "# Load the dataset\n",
    "housing_data = pd.read_csv('housing.csv')\n",
    "\n",
    "# Display basic information about the dataset\n",
    "print(\"Dataset Info:\")\n",
    "print(housing_data.info())\n",
    "\n",
    "# Check for categorical columns and their unique values\n",
    "categorical_columns = housing_data.select_dtypes(include=['object']).columns\n",
    "print(\"\\nCategorical Columns and their Unique Values:\")\n",
    "for col in categorical_columns:\n",
    "    print(f\"{col}: {housing_data[col].nunique()} unique values\")\n",
    "\n",
    "# Convert categorical columns to numerical using one-hot encoding\n",
    "housing_data_encoded = pd.get_dummies(housing_data, columns=categorical_columns, drop_first=True)\n",
    "\n",
    "# Display the first few rows of the transformed dataset\n",
    "print(\"\\nTransformed Dataset:\")\n",
    "print(housing_data_encoded.head())\n",
    "# Save the transformed dataset to a new CSV file\n",
    "housing_data_encoded.to_csv('housing_encoded.csv', index=False)"
   ]
  }
 ],
 "metadata": {
  "kernelspec": {
   "display_name": ".venv",
   "language": "python",
   "name": "python3"
  },
  "language_info": {
   "codemirror_mode": {
    "name": "ipython",
    "version": 3
   },
   "file_extension": ".py",
   "mimetype": "text/x-python",
   "name": "python",
   "nbconvert_exporter": "python",
   "pygments_lexer": "ipython3",
   "version": "3.10.11"
  }
 },
 "nbformat": 4,
 "nbformat_minor": 5
}
